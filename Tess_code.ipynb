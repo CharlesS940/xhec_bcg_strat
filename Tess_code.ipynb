{
 "cells": [
  {
   "cell_type": "markdown",
   "metadata": {},
   "source": [
    "# First part of the code: building the churner dataframe."
   ]
  },
  {
   "cell_type": "code",
   "execution_count": 1,
   "metadata": {},
   "outputs": [],
   "source": [
    "import pandas as pd\n",
    "import matplotlib.pyplot as plt\n",
    "import seaborn as sns"
   ]
  },
  {
   "cell_type": "code",
   "execution_count": 61,
   "metadata": {},
   "outputs": [],
   "source": [
    "df = pd.read_csv('transactions_dataset.csv', sep=';')"
   ]
  },
  {
   "cell_type": "code",
   "execution_count": 62,
   "metadata": {},
   "outputs": [],
   "source": [
    "df['date_order'] = pd.to_datetime(df['date_order'], format='%Y-%m-%d')\n",
    "df['date_invoice'] = pd.to_datetime(df['date_invoice'], format='%Y-%m-%d')"
   ]
  },
  {
   "cell_type": "code",
   "execution_count": 98,
   "metadata": {},
   "outputs": [],
   "source": [
    "# Count the number of unique purchase dates per client\n",
    "order_counts = df.groupby('client_id')['date_order'].nunique().reset_index()\n",
    "order_counts.rename(columns={'date_order': 'order_count'}, inplace=True)\n",
    "\n",
    "# Merge back with df\n",
    "df = df.merge(order_counts, on='client_id', how='left')\n",
    "\n",
    "# Keep only clients who ordered more than once\n",
    "df = df[df['order_count'] > 2]\n",
    "\n",
    "# Drop the temporary column if not needed\n",
    "df.drop(columns=['order_count'], inplace=True)"
   ]
  },
  {
   "cell_type": "code",
   "execution_count": 99,
   "metadata": {},
   "outputs": [],
   "source": [
    "df = df[df['client_id'] != 838349]"
   ]
  },
  {
   "cell_type": "code",
   "execution_count": 85,
   "metadata": {},
   "outputs": [
    {
     "name": "stdout",
     "output_type": "stream",
     "text": [
      "Starting order date: 2017-09-22 00:00:00\n",
      "Ending order date: 2019-09-22 00:00:00\n",
      "Starting invoice date: 2016-10-12 00:00:00\n",
      "Ending invoice date: 2021-07-13 00:00:00\n"
     ]
    }
   ],
   "source": [
    "print(f\"Starting order date: {df['date_order'].min()}\")\n",
    "print(f\"Ending order date: {df['date_order'].max()}\")\n",
    "\n",
    "print(f\"Starting invoice date: {df['date_invoice'].min()}\")\n",
    "print(f\"Ending invoice date: {df['date_invoice'].max()}\")"
   ]
  },
  {
   "cell_type": "markdown",
   "metadata": {},
   "source": [
    "# Dynamic threshold for Churner"
   ]
  },
  {
   "cell_type": "code",
   "execution_count": 164,
   "metadata": {},
   "outputs": [
    {
     "name": "stdout",
     "output_type": "stream",
     "text": [
      "There are 37761 churners within the 136087 clients.\n",
      "28% clients are churners.\n"
     ]
    }
   ],
   "source": [
    "# Group by client_id and date_order (to avoid multiple entries per day).\n",
    "\n",
    "df_daily = df.groupby(['client_id', 'date_order']).agg(\n",
    "    sales_net=('sales_net', 'sum'),  # Aggregate total spending per day.\n",
    "    quantity=('quantity', 'sum')  # Aggregate total quantity purchased per day.\n",
    ").reset_index()\n",
    "\n",
    "# Compute the time gaps between purchases.\n",
    "\n",
    "df_daily = df_daily.sort_values(by=['client_id', 'date_order'])  # Sort before diff().\n",
    "df_daily['time_gap'] = df_daily.groupby('client_id')['date_order'].diff().dt.days\n",
    "\n",
    "# Compute the mean time gap per client.\n",
    "  \n",
    "avg_gap = df_daily.groupby('client_id')['time_gap'].mean().reset_index()\n",
    "avg_gap.rename(columns={'time_gap': 'avg_time_gap'}, inplace=True)\n",
    "\n",
    "# Create a customer summary table.\n",
    "\n",
    "customer_summary = df.groupby('client_id').agg(\n",
    "    last_purchase=('date_order', 'max'),  # Last recorded invoice date\n",
    "    total_monetary=('sales_net', 'sum'),  # Total spending\n",
    "    avg_monetary=('sales_net', 'mean')  # Average spending per order\n",
    ").reset_index()\n",
    "\n",
    "# Round the 'total_monetary' columns to the nearest euro.\n",
    "\n",
    "customer_summary['total_monetary'] = customer_summary['total_monetary'].round(0).astype(int)\n",
    "\n",
    "# Add a frequency column showing the number of purchases made by each client in total.\n",
    "\n",
    "frequency = df.groupby('client_id')['date_order'].nunique().reset_index()\n",
    "frequency.rename(columns={'date_order': 'frequency'}, inplace=True)\n",
    "\n",
    "# Merge with customer_summary\n",
    "customer_summary = customer_summary.merge(frequency, on='client_id', how='left')\n",
    "\n",
    "# Create a recency column: number of days since last purchase.\n",
    "\n",
    "latest_date = df['date_order'].max()\n",
    "customer_summary['recency'] = (latest_date - customer_summary['last_purchase']).dt.days\n",
    "\n",
    "# Merge the customer_summary df with the avg_gap df for time gaps averages.\n",
    "\n",
    "customer_summary = customer_summary.merge(avg_gap, on='client_id', how='left')\n",
    "\n",
    "# Set a dynamic churn threshold (x3 the average time gap)\n",
    "\n",
    "customer_summary['dynamic_threshold'] = customer_summary['avg_time_gap'] * 3 \n",
    "\n",
    "# Identify churners (recency > dynamic threshold)\n",
    "\n",
    "customer_summary['churner'] = customer_summary['recency'] > customer_summary['dynamic_threshold']\n",
    "\n",
    "# Remove the customers having a null or negative total_monetary value.\n",
    "\n",
    "customer_summary = customer_summary[customer_summary['total_monetary'] > 0]\n",
    "\n",
    "# Printing results.\n",
    "\n",
    "number_churners = customer_summary[customer_summary['churner'] == True].shape[0]\n",
    "number_clients = customer_summary.shape[0]\n",
    "percentage_churners = round((number_churners / number_clients) * 100)\n",
    "\n",
    "print(f\"There are {number_churners} churners within the {number_clients} clients.\")\n",
    "print(f\"{percentage_churners}% clients are churners.\")"
   ]
  },
  {
   "cell_type": "markdown",
   "metadata": {},
   "source": [
    "### Download CSV"
   ]
  },
  {
   "cell_type": "code",
   "execution_count": 165,
   "metadata": {},
   "outputs": [],
   "source": [
    "customer_summary.to_csv('customer_summary.csv')"
   ]
  },
  {
   "cell_type": "code",
   "execution_count": 166,
   "metadata": {},
   "outputs": [
    {
     "data": {
      "text/html": [
       "<div>\n",
       "<style scoped>\n",
       "    .dataframe tbody tr th:only-of-type {\n",
       "        vertical-align: middle;\n",
       "    }\n",
       "\n",
       "    .dataframe tbody tr th {\n",
       "        vertical-align: top;\n",
       "    }\n",
       "\n",
       "    .dataframe thead th {\n",
       "        text-align: right;\n",
       "    }\n",
       "</style>\n",
       "<table border=\"1\" class=\"dataframe\">\n",
       "  <thead>\n",
       "    <tr style=\"text-align: right;\">\n",
       "      <th></th>\n",
       "      <th>date_order</th>\n",
       "      <th>date_invoice</th>\n",
       "      <th>product_id</th>\n",
       "      <th>client_id</th>\n",
       "      <th>sales_net</th>\n",
       "      <th>quantity</th>\n",
       "      <th>order_channel</th>\n",
       "      <th>branch_id</th>\n",
       "    </tr>\n",
       "  </thead>\n",
       "  <tbody>\n",
       "    <tr>\n",
       "      <th>0</th>\n",
       "      <td>2017-09-25</td>\n",
       "      <td>2017-09-25</td>\n",
       "      <td>2376333</td>\n",
       "      <td>188502</td>\n",
       "      <td>155.44320</td>\n",
       "      <td>3</td>\n",
       "      <td>online</td>\n",
       "      <td>2732</td>\n",
       "    </tr>\n",
       "    <tr>\n",
       "      <th>1</th>\n",
       "      <td>2017-09-25</td>\n",
       "      <td>2017-09-25</td>\n",
       "      <td>2520527</td>\n",
       "      <td>835089</td>\n",
       "      <td>16.39440</td>\n",
       "      <td>3</td>\n",
       "      <td>at the store</td>\n",
       "      <td>10279</td>\n",
       "    </tr>\n",
       "    <tr>\n",
       "      <th>2</th>\n",
       "      <td>2017-09-25</td>\n",
       "      <td>2017-09-25</td>\n",
       "      <td>2536756</td>\n",
       "      <td>1977896</td>\n",
       "      <td>365.76624</td>\n",
       "      <td>21</td>\n",
       "      <td>online</td>\n",
       "      <td>6184</td>\n",
       "    </tr>\n",
       "    <tr>\n",
       "      <th>3</th>\n",
       "      <td>2017-09-25</td>\n",
       "      <td>2017-09-25</td>\n",
       "      <td>3028673</td>\n",
       "      <td>598816</td>\n",
       "      <td>8.59878</td>\n",
       "      <td>201</td>\n",
       "      <td>at the store</td>\n",
       "      <td>4200</td>\n",
       "    </tr>\n",
       "    <tr>\n",
       "      <th>4</th>\n",
       "      <td>2017-09-25</td>\n",
       "      <td>2017-09-25</td>\n",
       "      <td>203377</td>\n",
       "      <td>2086861</td>\n",
       "      <td>1093.37400</td>\n",
       "      <td>3</td>\n",
       "      <td>by phone</td>\n",
       "      <td>7051</td>\n",
       "    </tr>\n",
       "  </tbody>\n",
       "</table>\n",
       "</div>"
      ],
      "text/plain": [
       "  date_order date_invoice  product_id  client_id   sales_net  quantity  \\\n",
       "0 2017-09-25   2017-09-25     2376333     188502   155.44320         3   \n",
       "1 2017-09-25   2017-09-25     2520527     835089    16.39440         3   \n",
       "2 2017-09-25   2017-09-25     2536756    1977896   365.76624        21   \n",
       "3 2017-09-25   2017-09-25     3028673     598816     8.59878       201   \n",
       "4 2017-09-25   2017-09-25      203377    2086861  1093.37400         3   \n",
       "\n",
       "  order_channel  branch_id  \n",
       "0        online       2732  \n",
       "1  at the store      10279  \n",
       "2        online       6184  \n",
       "3  at the store       4200  \n",
       "4      by phone       7051  "
      ]
     },
     "execution_count": 166,
     "metadata": {},
     "output_type": "execute_result"
    }
   ],
   "source": [
    "df.head()"
   ]
  },
  {
   "cell_type": "code",
   "execution_count": 167,
   "metadata": {},
   "outputs": [
    {
     "data": {
      "text/plain": [
       "order_channel\n",
       "at the store                       32001287\n",
       "by phone                           25382264\n",
       "online                              5648144\n",
       "other                                 58384\n",
       "during the visit of a sales rep       28992\n",
       "Name: count, dtype: int64"
      ]
     },
     "execution_count": 167,
     "metadata": {},
     "output_type": "execute_result"
    }
   ],
   "source": [
    "df['order_channel'].value_counts()"
   ]
  },
  {
   "cell_type": "code",
   "execution_count": null,
   "metadata": {},
   "outputs": [],
   "source": []
  }
 ],
 "metadata": {
  "kernelspec": {
   "display_name": "Python 3",
   "language": "python",
   "name": "python3"
  },
  "language_info": {
   "codemirror_mode": {
    "name": "ipython",
    "version": 3
   },
   "file_extension": ".py",
   "mimetype": "text/x-python",
   "name": "python",
   "nbconvert_exporter": "python",
   "pygments_lexer": "ipython3",
   "version": "3.12.3"
  }
 },
 "nbformat": 4,
 "nbformat_minor": 2
}
