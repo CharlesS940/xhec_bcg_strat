{
 "cells": [
  {
   "cell_type": "code",
   "execution_count": 6,
   "metadata": {},
   "outputs": [],
   "source": [
    "import polars as pl\n",
    "\n",
    "df_pl = pl.read_csv('transactions_dataset.csv', separator=';')"
   ]
  },
  {
   "cell_type": "code",
   "execution_count": 2,
   "metadata": {},
   "outputs": [],
   "source": [
    "# df = df_pl.with_columns(pl.col(\"date_order\").str.to_date())\n",
    "# # Count the number of transactions per client\n",
    "# transaction_counts = df.group_by(\"client_id\").agg(pl.count(\"client_id\").alias(\"transaction_count\"))\n",
    "\n",
    "# # Filter out clients with less than 5 transactions\n",
    "# filtered_clients = transaction_counts.filter(pl.col(\"transaction_count\") >= 5)\n",
    "\n",
    "# # Join the filtered clients back to the original dataframe\n",
    "# df = df.join(filtered_clients, on=\"client_id\", how=\"inner\")"
   ]
  },
  {
   "cell_type": "code",
   "execution_count": null,
   "metadata": {},
   "outputs": [],
   "source": [
    "df = df_pl.with_columns(pl.col(\"date_order\").str.to_date())\n",
    "last_purchase_df = df.group_by(\"client_id\").agg(pl.col(\"date_order\").max().alias(\"Last_Purchase_Date\"))"
   ]
  },
  {
   "cell_type": "code",
   "execution_count": null,
   "metadata": {},
   "outputs": [
    {
     "name": "stdout",
     "output_type": "stream",
     "text": [
      "shape: (170_590, 3)\n",
      "┌───────────┬────────────────────┬─────────┐\n",
      "│ client_id ┆ Last_Purchase_Date ┆ status  │\n",
      "│ ---       ┆ ---                ┆ ---     │\n",
      "│ i64       ┆ date               ┆ str     │\n",
      "╞═══════════╪════════════════════╪═════════╡\n",
      "│ 861740    ┆ 2019-08-16         ┆ active  │\n",
      "│ 565357    ┆ 2019-08-16         ┆ active  │\n",
      "│ 2054030   ┆ 2019-09-10         ┆ active  │\n",
      "│ 2180803   ┆ 2019-08-08         ┆ active  │\n",
      "│ 9876      ┆ 2018-07-31         ┆ churned │\n",
      "│ …         ┆ …                  ┆ …       │\n",
      "│ 591301    ┆ 2019-08-08         ┆ active  │\n",
      "│ 41640     ┆ 2019-08-06         ┆ active  │\n",
      "│ 1016493   ┆ 2019-03-04         ┆ churned │\n",
      "│ 266577    ┆ 2019-08-12         ┆ active  │\n",
      "│ 1565576   ┆ 2019-09-10         ┆ active  │\n",
      "└───────────┴────────────────────┴─────────┘\n"
     ]
    }
   ],
   "source": [
    "# Define thresholds\n",
    "max_date = last_purchase_df[\"Last_Purchase_Date\"].max()\n",
    "churn_threshold = max_date - timedelta(days=180)\n",
    "at_risk_threshold = max_date - timedelta(days=90)\n",
    "\n",
    "# Ensure \"Last_Purchase_Date\" is of type Date\n",
    "last_purchase_df = last_purchase_df.with_columns(\n",
    "    pl.col(\"Last_Purchase_Date\").cast(pl.Date)\n",
    ")\n",
    "\n",
    "# Add status column correctly\n",
    "last_purchase_df = last_purchase_df.with_columns(\n",
    "    pl.when(pl.col(\"Last_Purchase_Date\") < churn_threshold)\n",
    "    .then(pl.lit(\"churned\"))\n",
    "    .when(pl.col(\"Last_Purchase_Date\") < at_risk_threshold)\n",
    "    .then(pl.lit(\"at risk\"))\n",
    "    .otherwise(pl.lit(\"active\"))\n",
    "    .alias(\"status\")\n",
    ")\n",
    "\n",
    "print(last_purchase_df)\n"
   ]
  },
  {
   "cell_type": "code",
   "execution_count": 8,
   "metadata": {},
   "outputs": [
    {
     "name": "stdout",
     "output_type": "stream",
     "text": [
      "shape: (10, 3)\n",
      "┌───────────┬────────────────────────────┬─────────┐\n",
      "│ client_id ┆ Last_Purchase_Date         ┆ status  │\n",
      "│ ---       ┆ ---                        ┆ ---     │\n",
      "│ str       ┆ datetime[μs]               ┆ str     │\n",
      "╞═══════════╪════════════════════════════╪═════════╡\n",
      "│ client_1  ┆ 2024-11-09 13:44:17.508311 ┆ at risk │\n",
      "│ client_2  ┆ 2024-10-30 13:44:17.508311 ┆ at risk │\n",
      "│ client_3  ┆ 2024-10-08 13:44:17.508311 ┆ at risk │\n",
      "│ client_4  ┆ 2023-02-26 00:00:00        ┆ churned │\n",
      "│ client_5  ┆ 2021-06-19 00:00:00        ┆ churned │\n",
      "│ client_6  ┆ 2023-07-15 00:00:00        ┆ churned │\n",
      "│ client_7  ┆ 2024-12-24 13:44:17.508311 ┆ active  │\n",
      "│ client_8  ┆ 2025-01-22 13:44:17.508311 ┆ active  │\n",
      "│ client_9  ┆ 2025-01-12 13:44:17.508311 ┆ active  │\n",
      "│ client_10 ┆ 2024-12-01 13:44:17.508311 ┆ active  │\n",
      "└───────────┴────────────────────────────┴─────────┘\n",
      "shape: (50, 3)\n",
      "┌───────────┬─────────────────────┬───────────┐\n",
      "│ client_id ┆ date_order          ┆ sales_net │\n",
      "│ ---       ┆ ---                 ┆ ---       │\n",
      "│ str       ┆ datetime[μs]        ┆ i64       │\n",
      "╞═══════════╪═════════════════════╪═══════════╡\n",
      "│ client_1  ┆ 2021-11-29 00:00:00 ┆ 460       │\n",
      "│ client_1  ┆ 2021-03-27 00:00:00 ┆ 390       │\n",
      "│ client_1  ┆ 2023-12-28 00:00:00 ┆ 155       │\n",
      "│ client_1  ┆ 2023-08-14 00:00:00 ┆ 281       │\n",
      "│ client_1  ┆ 2022-01-12 00:00:00 ┆ 433       │\n",
      "│ …         ┆ …                   ┆ …         │\n",
      "│ client_10 ┆ 2021-02-06 00:00:00 ┆ 272       │\n",
      "│ client_10 ┆ 2021-06-09 00:00:00 ┆ 320       │\n",
      "│ client_10 ┆ 2024-03-05 00:00:00 ┆ 250       │\n",
      "│ client_10 ┆ 2020-04-01 00:00:00 ┆ 401       │\n",
      "│ client_10 ┆ 2023-03-18 00:00:00 ┆ 243       │\n",
      "└───────────┴─────────────────────┴───────────┘\n"
     ]
    },
    {
     "name": "stderr",
     "output_type": "stream",
     "text": [
      "C:\\Users\\charl\\AppData\\Local\\Temp\\ipykernel_8628\\401852678.py:36: DataOrientationWarning: Row orientation inferred during DataFrame construction. Explicitly specify the orientation by passing `orient=\"row\"` to silence this warning.\n",
      "  clients_df = pl.DataFrame(clients, schema=[\"client_id\", \"Last_Purchase_Date\", \"status\"])\n",
      "C:\\Users\\charl\\AppData\\Local\\Temp\\ipykernel_8628\\401852678.py:37: DataOrientationWarning: Row orientation inferred during DataFrame construction. Explicitly specify the orientation by passing `orient=\"row\"` to silence this warning.\n",
      "  transactions_df = pl.DataFrame(transactions, schema=[\"client_id\", \"date_order\", \"sales_net\"])\n"
     ]
    }
   ],
   "source": [
    "import random\n",
    "from datetime import datetime, timedelta\n",
    "\n",
    "# Generate random dates\n",
    "def random_date(start, end):\n",
    "    return start + timedelta(days=random.randint(0, int((end - start).days)))\n",
    "\n",
    "# Define date ranges\n",
    "max_date = datetime.now()\n",
    "churn_threshold = max_date - timedelta(days=180)\n",
    "at_risk_threshold = max_date - timedelta(days=90)\n",
    "\n",
    "# Generate fake data\n",
    "clients = []\n",
    "transactions = []\n",
    "\n",
    "for i in range(10):\n",
    "    client_id = f\"client_{i+1}\"\n",
    "    if i < 3:\n",
    "        status = \"at risk\"\n",
    "        last_purchase_date = random_date(churn_threshold + timedelta(days=1), at_risk_threshold - timedelta(days=1))\n",
    "    elif i < 6:\n",
    "        status = \"churned\"\n",
    "        last_purchase_date = random_date(datetime(2020, 1, 1), churn_threshold - timedelta(days=1))\n",
    "    else:\n",
    "        status = \"active\"\n",
    "        last_purchase_date = random_date(at_risk_threshold + timedelta(days=1), max_date)\n",
    "\n",
    "    clients.append((client_id, last_purchase_date, status))\n",
    "    for _ in range(5):\n",
    "        transaction_date = random_date(datetime(2020, 1, 1), last_purchase_date)\n",
    "        amount = random.randint(100, 500)\n",
    "        transactions.append((client_id, transaction_date, amount))\n",
    "\n",
    "# Create dataframes\n",
    "clients_df = pl.DataFrame(clients, schema=[\"client_id\", \"Last_Purchase_Date\", \"status\"])\n",
    "transactions_df = pl.DataFrame(transactions, schema=[\"client_id\", \"date_order\", \"sales_net\"])\n",
    "\n",
    "print(clients_df)\n",
    "print(transactions_df)"
   ]
  },
  {
   "cell_type": "code",
   "execution_count": 10,
   "metadata": {},
   "outputs": [],
   "source": [
    "# Sort transactions by date\n",
    "transactions_df = transactions_df.sort(\"date_order\")\n",
    "\n",
    "# Save the dataframes to CSV files\n",
    "clients_df.write_csv('clients.csv')\n",
    "transactions_df.write_csv('transactions.csv')"
   ]
  },
  {
   "cell_type": "code",
   "execution_count": null,
   "metadata": {},
   "outputs": [],
   "source": []
  }
 ],
 "metadata": {
  "kernelspec": {
   "display_name": ".venv",
   "language": "python",
   "name": "python3"
  },
  "language_info": {
   "codemirror_mode": {
    "name": "ipython",
    "version": 3
   },
   "file_extension": ".py",
   "mimetype": "text/x-python",
   "name": "python",
   "nbconvert_exporter": "python",
   "pygments_lexer": "ipython3",
   "version": "3.11.0"
  }
 },
 "nbformat": 4,
 "nbformat_minor": 2
}
