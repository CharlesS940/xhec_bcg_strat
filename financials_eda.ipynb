{
 "cells": [
  {
   "cell_type": "code",
   "execution_count": 2,
   "metadata": {},
   "outputs": [],
   "source": [
    "import pandas as pd"
   ]
  },
  {
   "cell_type": "code",
   "execution_count": 62,
   "metadata": {},
   "outputs": [],
   "source": [
    "# Get all sheet names\n",
    "sheet_names = pd.ExcelFile(\"Financials data.xlsx\").sheet_names\n",
    "\n",
    "# Initialize empty list to store dataframes\n",
    "dfs = []\n",
    "\n",
    "# Process each sheet\n",
    "for sheet in sheet_names:\n",
    "    # Read the sheet\n",
    "    temp_df = pd.read_excel(\"Financials data.xlsx\", sheet_name=sheet)\n",
    "    \n",
    "    # Apply the same transformations\n",
    "    temp_df = temp_df.T.iloc[1:, :110]\n",
    "    temp_df.columns = temp_df.iloc[0]\n",
    "    temp_df = temp_df.iloc[1:].reset_index(drop=True)\n",
    "    \n",
    "    # Add company column\n",
    "    temp_df['Company'] = sheet\n",
    "    \n",
    "    # Append to list\n",
    "    dfs.append(temp_df)\n",
    "\n",
    "# Combine all dataframes\n",
    "df = pd.concat(dfs, ignore_index=True)"
   ]
  },
  {
   "cell_type": "code",
   "execution_count": 63,
   "metadata": {},
   "outputs": [],
   "source": [
    "df = df[[\"Revenue\", \"- Cost of Revenue\", \"Reported R&D Expense (from Footnote)\", \"Cost of Goods Sold\",\n",
    "          \"Inventory - Raw Materials\", \"Inventory - Work in Progress\", \"Inventory - Finished Goods\",\n",
    "          \"Selling and marketing Expense\", \"Period\",\"Company\"]]"
   ]
  },
  {
   "cell_type": "code",
   "execution_count": 64,
   "metadata": {},
   "outputs": [
    {
     "name": "stderr",
     "output_type": "stream",
     "text": [
      "C:\\Users\\charl\\AppData\\Local\\Temp\\ipykernel_8084\\2527782014.py:10: FutureWarning: Downcasting object dtype arrays on .fillna, .ffill, .bfill is deprecated and will change in a future version. Call result.infer_objects(copy=False) instead. To opt-in to the future behavior, set `pd.set_option('future.no_silent_downcasting', True)`\n",
      "  df.fillna(0, inplace=True)\n"
     ]
    }
   ],
   "source": [
    "df[\"Cost of Revenue / Revenue\"] = df[\"- Cost of Revenue\"] / df[\"Revenue\"]\n",
    "df[\"Selling and marketing Expense / Revenue\"] = df[\"Selling and marketing Expense\"] / df[\"Revenue\"]\n",
    "df[\"Reported R&D Expense (from Footnote) / Revenue\"] = df[\"Reported R&D Expense (from Footnote)\"] / df[\"Revenue\"]\n",
    "df[\"Cost of Goods Sold / Revenue\"] = df[\"Cost of Goods Sold\"] / df[\"Revenue\"]\n",
    "df[\"Total Inventory\"] = df[\"Inventory - Raw Materials\"] + df[\"Inventory - Work in Progress\"] + df[\"Inventory - Finished Goods\"]\n",
    "df[\"Inventory - Raw Materials / Total Inventory\"] = df[\"Inventory - Raw Materials\"] / df[\"Total Inventory\"]\n",
    "df[\"Inventory - Work in Progress / Total Inventory\"] = df[\"Inventory - Work in Progress\"] / df[\"Total Inventory\"]\n",
    "df[\"Inventory - Finished Goods / Total Inventory\"] = df[\"Inventory - Finished Goods\"] / df[\"Total Inventory\"]\n",
    "\n",
    "df.fillna(0, inplace=True)\n",
    "\n",
    "df_client = df[df[\"Company\"]==\"ClientCo\"]\n",
    "df_competitor = df[df[\"Company\"]!=\"ClientCo\"]"
   ]
  },
  {
   "cell_type": "code",
   "execution_count": 65,
   "metadata": {},
   "outputs": [],
   "source": [
    "df_client = df_client.iloc[-1]\n",
    "df_client.drop(columns=[\"Company\", \"Period\"], inplace=True)\n",
    "df_competitor = df_competitor.groupby(\"Company\").tail(1)\n",
    "df_competitor.drop(columns=[\"Company\", \"Period\"], inplace=True)\n",
    "df_competitor = df_competitor.mean()"
   ]
  },
  {
   "cell_type": "code",
   "execution_count": 66,
   "metadata": {},
   "outputs": [],
   "source": [
    "final_df = pd.DataFrame({\"ClientCo\": df_client, \"Competitor Average\": df_competitor})"
   ]
  },
  {
   "cell_type": "code",
   "execution_count": 67,
   "metadata": {},
   "outputs": [
    {
     "data": {
      "text/html": [
       "<div>\n",
       "<style scoped>\n",
       "    .dataframe tbody tr th:only-of-type {\n",
       "        vertical-align: middle;\n",
       "    }\n",
       "\n",
       "    .dataframe tbody tr th {\n",
       "        vertical-align: top;\n",
       "    }\n",
       "\n",
       "    .dataframe thead th {\n",
       "        text-align: right;\n",
       "    }\n",
       "</style>\n",
       "<table border=\"1\" class=\"dataframe\">\n",
       "  <thead>\n",
       "    <tr style=\"text-align: right;\">\n",
       "      <th></th>\n",
       "      <th>ClientCo</th>\n",
       "      <th>Competitor Average</th>\n",
       "    </tr>\n",
       "    <tr>\n",
       "      <th>Unnamed: 1</th>\n",
       "      <th></th>\n",
       "      <th></th>\n",
       "    </tr>\n",
       "  </thead>\n",
       "  <tbody>\n",
       "    <tr>\n",
       "      <th>- Cost of Revenue</th>\n",
       "      <td>11881.532</td>\n",
       "      <td>60616.574631</td>\n",
       "    </tr>\n",
       "    <tr>\n",
       "      <th>Company</th>\n",
       "      <td>ClientCo</td>\n",
       "      <td>NaN</td>\n",
       "    </tr>\n",
       "    <tr>\n",
       "      <th>Cost of Goods Sold</th>\n",
       "      <td>11881.532</td>\n",
       "      <td>60616.574631</td>\n",
       "    </tr>\n",
       "    <tr>\n",
       "      <th>Cost of Goods Sold / Revenue</th>\n",
       "      <td>0.75262</td>\n",
       "      <td>0.771881</td>\n",
       "    </tr>\n",
       "    <tr>\n",
       "      <th>Cost of Revenue / Revenue</th>\n",
       "      <td>0.75262</td>\n",
       "      <td>0.771881</td>\n",
       "    </tr>\n",
       "    <tr>\n",
       "      <th>Inventory - Finished Goods</th>\n",
       "      <td>0.0</td>\n",
       "      <td>1624.250319</td>\n",
       "    </tr>\n",
       "    <tr>\n",
       "      <th>Inventory - Finished Goods / Total Inventory</th>\n",
       "      <td>0.0</td>\n",
       "      <td>0.08458</td>\n",
       "    </tr>\n",
       "    <tr>\n",
       "      <th>Inventory - Raw Materials</th>\n",
       "      <td>0.0</td>\n",
       "      <td>238.46854</td>\n",
       "    </tr>\n",
       "    <tr>\n",
       "      <th>Inventory - Raw Materials / Total Inventory</th>\n",
       "      <td>0.0</td>\n",
       "      <td>0.037489</td>\n",
       "    </tr>\n",
       "    <tr>\n",
       "      <th>Inventory - Work in Progress</th>\n",
       "      <td>0.0</td>\n",
       "      <td>56.562209</td>\n",
       "    </tr>\n",
       "    <tr>\n",
       "      <th>Inventory - Work in Progress / Total Inventory</th>\n",
       "      <td>0.0</td>\n",
       "      <td>0.020788</td>\n",
       "    </tr>\n",
       "    <tr>\n",
       "      <th>Period</th>\n",
       "      <td>LTM</td>\n",
       "      <td>NaN</td>\n",
       "    </tr>\n",
       "    <tr>\n",
       "      <th>Reported R&amp;D Expense (from Footnote)</th>\n",
       "      <td>0.0</td>\n",
       "      <td>313.243765</td>\n",
       "    </tr>\n",
       "    <tr>\n",
       "      <th>Reported R&amp;D Expense (from Footnote) / Revenue</th>\n",
       "      <td>0.0</td>\n",
       "      <td>0.010655</td>\n",
       "    </tr>\n",
       "    <tr>\n",
       "      <th>Revenue</th>\n",
       "      <td>15786.904</td>\n",
       "      <td>71262.835458</td>\n",
       "    </tr>\n",
       "    <tr>\n",
       "      <th>Selling and marketing Expense</th>\n",
       "      <td>0.0</td>\n",
       "      <td>400.147582</td>\n",
       "    </tr>\n",
       "    <tr>\n",
       "      <th>Selling and marketing Expense / Revenue</th>\n",
       "      <td>0.0</td>\n",
       "      <td>0.021602</td>\n",
       "    </tr>\n",
       "    <tr>\n",
       "      <th>Total Inventory</th>\n",
       "      <td>0.0</td>\n",
       "      <td>1771.429384</td>\n",
       "    </tr>\n",
       "  </tbody>\n",
       "</table>\n",
       "</div>"
      ],
      "text/plain": [
       "                                                 ClientCo Competitor Average\n",
       "Unnamed: 1                                                                  \n",
       "- Cost of Revenue                               11881.532       60616.574631\n",
       "Company                                          ClientCo                NaN\n",
       "Cost of Goods Sold                              11881.532       60616.574631\n",
       "Cost of Goods Sold / Revenue                      0.75262           0.771881\n",
       "Cost of Revenue / Revenue                         0.75262           0.771881\n",
       "Inventory - Finished Goods                            0.0        1624.250319\n",
       "Inventory - Finished Goods / Total Inventory          0.0            0.08458\n",
       "Inventory - Raw Materials                             0.0          238.46854\n",
       "Inventory - Raw Materials / Total Inventory           0.0           0.037489\n",
       "Inventory - Work in Progress                          0.0          56.562209\n",
       "Inventory - Work in Progress / Total Inventory        0.0           0.020788\n",
       "Period                                                LTM                NaN\n",
       "Reported R&D Expense (from Footnote)                  0.0         313.243765\n",
       "Reported R&D Expense (from Footnote) / Revenue        0.0           0.010655\n",
       "Revenue                                         15786.904       71262.835458\n",
       "Selling and marketing Expense                         0.0         400.147582\n",
       "Selling and marketing Expense / Revenue               0.0           0.021602\n",
       "Total Inventory                                       0.0        1771.429384"
      ]
     },
     "execution_count": 67,
     "metadata": {},
     "output_type": "execute_result"
    }
   ],
   "source": [
    "final_df"
   ]
  },
  {
   "cell_type": "code",
   "execution_count": null,
   "metadata": {},
   "outputs": [],
   "source": []
  }
 ],
 "metadata": {
  "kernelspec": {
   "display_name": ".venv",
   "language": "python",
   "name": "python3"
  },
  "language_info": {
   "codemirror_mode": {
    "name": "ipython",
    "version": 3
   },
   "file_extension": ".py",
   "mimetype": "text/x-python",
   "name": "python",
   "nbconvert_exporter": "python",
   "pygments_lexer": "ipython3",
   "version": "3.11.0"
  }
 },
 "nbformat": 4,
 "nbformat_minor": 2
}
